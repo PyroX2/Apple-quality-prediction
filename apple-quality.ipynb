{
 "cells": [
  {
   "cell_type": "code",
   "execution_count": 1,
   "id": "cb63c317",
   "metadata": {
    "_cell_guid": "b1076dfc-b9ad-4769-8c92-a6c4dae69d19",
    "_uuid": "8f2839f25d086af736a60e9eeb907d3b93b6e0e5",
    "execution": {
     "iopub.execute_input": "2024-04-01T12:03:52.014261Z",
     "iopub.status.busy": "2024-04-01T12:03:52.013525Z",
     "iopub.status.idle": "2024-04-01T12:03:52.755914Z",
     "shell.execute_reply": "2024-04-01T12:03:52.755023Z"
    },
    "papermill": {
     "duration": 0.754427,
     "end_time": "2024-04-01T12:03:52.758062",
     "exception": false,
     "start_time": "2024-04-01T12:03:52.003635",
     "status": "completed"
    },
    "tags": []
   },
   "outputs": [
    {
     "name": "stdout",
     "output_type": "stream",
     "text": [
      "/kaggle/input/apple-quality/apple_quality.csv\n"
     ]
    }
   ],
   "source": [
    "# This Python 3 environment comes with many helpful analytics libraries installed\n",
    "# It is defined by the kaggle/python Docker image: https://github.com/kaggle/docker-python\n",
    "# For example, here's several helpful packages to load\n",
    "\n",
    "import numpy as np # linear algebra\n",
    "import pandas as pd # data processing, CSV file I/O (e.g. pd.read_csv)\n",
    "\n",
    "# Input data files are available in the read-only \"../input/\" directory\n",
    "# For example, running this (by clicking run or pressing Shift+Enter) will list all files under the input directory\n",
    "\n",
    "import os\n",
    "for dirname, _, filenames in os.walk('/kaggle/input'):\n",
    "    for filename in filenames:\n",
    "        print(os.path.join(dirname, filename))\n",
    "\n",
    "# You can write up to 20GB to the current directory (/kaggle/working/) that gets preserved as output when you create a version using \"Save & Run All\" \n",
    "# You can also write temporary files to /kaggle/temp/, but they won't be saved outside of the current session"
   ]
  },
  {
   "cell_type": "code",
   "execution_count": 2,
   "id": "2528ae9b",
   "metadata": {
    "execution": {
     "iopub.execute_input": "2024-04-01T12:03:52.775971Z",
     "iopub.status.busy": "2024-04-01T12:03:52.775601Z",
     "iopub.status.idle": "2024-04-01T12:03:56.448206Z",
     "shell.execute_reply": "2024-04-01T12:03:56.447408Z"
    },
    "papermill": {
     "duration": 3.684281,
     "end_time": "2024-04-01T12:03:56.450792",
     "exception": false,
     "start_time": "2024-04-01T12:03:52.766511",
     "status": "completed"
    },
    "tags": []
   },
   "outputs": [],
   "source": [
    "import torch\n",
    "from torch import nn\n",
    "from torch.nn import functional as F"
   ]
  },
  {
   "cell_type": "code",
   "execution_count": 3,
   "id": "8e3ce7c7",
   "metadata": {
    "execution": {
     "iopub.execute_input": "2024-04-01T12:03:56.468722Z",
     "iopub.status.busy": "2024-04-01T12:03:56.468297Z",
     "iopub.status.idle": "2024-04-01T12:03:56.477898Z",
     "shell.execute_reply": "2024-04-01T12:03:56.477114Z"
    },
    "papermill": {
     "duration": 0.020596,
     "end_time": "2024-04-01T12:03:56.479831",
     "exception": false,
     "start_time": "2024-04-01T12:03:56.459235",
     "status": "completed"
    },
    "tags": []
   },
   "outputs": [],
   "source": [
    "class Model(nn.Module):\n",
    "    def __init__(self):\n",
    "        super().__init__()\n",
    "        device = 'cuda' if torch.cuda.is_available() else 'cpu'\n",
    "        self.dense1 = nn.Linear(7, 40, device=device)\n",
    "        self.sigmoid1 = nn.Sigmoid()\n",
    "        self.dropout1 = nn.Dropout(p=0.3)\n",
    "        self.dense2 = nn.Linear(40, 50, device=device)\n",
    "        self.sigmoid2 = nn.Sigmoid()\n",
    "        self.dropout2 = nn.Dropout(p=0.3)\n",
    "        self.dense3 = nn.Linear(50, 30, device=device)\n",
    "        self.sigmoid3 = nn.Sigmoid()\n",
    "        self.dropout3 = nn.Dropout(p=0.3)\n",
    "        self.dense4 = nn.Linear(30, 1, device=device)\n",
    "#         self.sigmoid4 = nn.Sigmoid()\n",
    "        \n",
    "        print(f'Dense1 type: {self.dense1.weight.dtype}')\n",
    "        print(f'Dense2 type: {self.dense2.weight.dtype}')\n",
    "        print(f'Dense3 type: {self.dense3.weight.dtype}')\n",
    "        print(f'Dense4 type: {self.dense4.weight.dtype}')\n",
    "        \n",
    "        \n",
    "    def forward(self, x):\n",
    "        out1 = self.dropout1(self.sigmoid1(self.dense1(x)))\n",
    "        out2 = self.dropout2(self.sigmoid2(self.dense2(out1)))\n",
    "        out3 = self.dropout3(self.sigmoid3(self.dense3(out2)))\n",
    "        output = self.dense4(out3)\n",
    "        return output\n",
    "        "
   ]
  },
  {
   "cell_type": "code",
   "execution_count": 4,
   "id": "d29ead00",
   "metadata": {
    "execution": {
     "iopub.execute_input": "2024-04-01T12:03:56.497267Z",
     "iopub.status.busy": "2024-04-01T12:03:56.496980Z",
     "iopub.status.idle": "2024-04-01T12:03:56.501994Z",
     "shell.execute_reply": "2024-04-01T12:03:56.500807Z"
    },
    "papermill": {
     "duration": 0.017004,
     "end_time": "2024-04-01T12:03:56.504947",
     "exception": false,
     "start_time": "2024-04-01T12:03:56.487943",
     "status": "completed"
    },
    "tags": []
   },
   "outputs": [],
   "source": [
    "def shuffle_two_arrays(a, b):\n",
    "    assert len(a) == len(b)\n",
    "    p = np.random.permutation(len(a))\n",
    "    return a[p], b[p]"
   ]
  },
  {
   "cell_type": "code",
   "execution_count": 5,
   "id": "2913a81d",
   "metadata": {
    "execution": {
     "iopub.execute_input": "2024-04-01T12:03:56.527522Z",
     "iopub.status.busy": "2024-04-01T12:03:56.527196Z",
     "iopub.status.idle": "2024-04-01T12:03:56.531753Z",
     "shell.execute_reply": "2024-04-01T12:03:56.530606Z"
    },
    "papermill": {
     "duration": 0.018583,
     "end_time": "2024-04-01T12:03:56.534551",
     "exception": false,
     "start_time": "2024-04-01T12:03:56.515968",
     "status": "completed"
    },
    "tags": []
   },
   "outputs": [],
   "source": [
    "train_split = 0.7\n",
    "validation_split = 0.2\n",
    "test_split = 0.1"
   ]
  },
  {
   "cell_type": "code",
   "execution_count": 6,
   "id": "d8a7fb9b",
   "metadata": {
    "execution": {
     "iopub.execute_input": "2024-04-01T12:03:56.560710Z",
     "iopub.status.busy": "2024-04-01T12:03:56.560340Z",
     "iopub.status.idle": "2024-04-01T12:03:56.564175Z",
     "shell.execute_reply": "2024-04-01T12:03:56.563303Z"
    },
    "papermill": {
     "duration": 0.021545,
     "end_time": "2024-04-01T12:03:56.568497",
     "exception": false,
     "start_time": "2024-04-01T12:03:56.546952",
     "status": "completed"
    },
    "tags": []
   },
   "outputs": [],
   "source": [
    "file_name = '/kaggle/input/apple-quality/apple_quality.csv'"
   ]
  },
  {
   "cell_type": "code",
   "execution_count": 7,
   "id": "b6e801bc",
   "metadata": {
    "execution": {
     "iopub.execute_input": "2024-04-01T12:03:56.591044Z",
     "iopub.status.busy": "2024-04-01T12:03:56.590502Z",
     "iopub.status.idle": "2024-04-01T12:03:56.624494Z",
     "shell.execute_reply": "2024-04-01T12:03:56.623793Z"
    },
    "papermill": {
     "duration": 0.048808,
     "end_time": "2024-04-01T12:03:56.626464",
     "exception": false,
     "start_time": "2024-04-01T12:03:56.577656",
     "status": "completed"
    },
    "tags": []
   },
   "outputs": [],
   "source": [
    "data = pd.read_csv(file_name)"
   ]
  },
  {
   "cell_type": "code",
   "execution_count": 8,
   "id": "ada3c6a5",
   "metadata": {
    "execution": {
     "iopub.execute_input": "2024-04-01T12:03:56.643791Z",
     "iopub.status.busy": "2024-04-01T12:03:56.643533Z",
     "iopub.status.idle": "2024-04-01T12:03:56.653199Z",
     "shell.execute_reply": "2024-04-01T12:03:56.652496Z"
    },
    "papermill": {
     "duration": 0.020563,
     "end_time": "2024-04-01T12:03:56.655167",
     "exception": false,
     "start_time": "2024-04-01T12:03:56.634604",
     "status": "completed"
    },
    "tags": []
   },
   "outputs": [],
   "source": [
    "data = data.dropna()"
   ]
  },
  {
   "cell_type": "code",
   "execution_count": 9,
   "id": "eba38a21",
   "metadata": {
    "execution": {
     "iopub.execute_input": "2024-04-01T12:03:56.673346Z",
     "iopub.status.busy": "2024-04-01T12:03:56.673066Z",
     "iopub.status.idle": "2024-04-01T12:03:56.681437Z",
     "shell.execute_reply": "2024-04-01T12:03:56.680597Z"
    },
    "papermill": {
     "duration": 0.019468,
     "end_time": "2024-04-01T12:03:56.683340",
     "exception": false,
     "start_time": "2024-04-01T12:03:56.663872",
     "status": "completed"
    },
    "tags": []
   },
   "outputs": [],
   "source": [
    "data = data.drop('A_id', axis=1)"
   ]
  },
  {
   "cell_type": "code",
   "execution_count": 10,
   "id": "4101f09c",
   "metadata": {
    "execution": {
     "iopub.execute_input": "2024-04-01T12:03:56.700048Z",
     "iopub.status.busy": "2024-04-01T12:03:56.699787Z",
     "iopub.status.idle": "2024-04-01T12:03:56.708668Z",
     "shell.execute_reply": "2024-04-01T12:03:56.707568Z"
    },
    "papermill": {
     "duration": 0.019416,
     "end_time": "2024-04-01T12:03:56.710598",
     "exception": false,
     "start_time": "2024-04-01T12:03:56.691182",
     "status": "completed"
    },
    "tags": []
   },
   "outputs": [
    {
     "name": "stderr",
     "output_type": "stream",
     "text": [
      "/tmp/ipykernel_26/3540022417.py:1: FutureWarning: Downcasting behavior in `replace` is deprecated and will be removed in a future version. To retain the old behavior, explicitly call `result.infer_objects(copy=False)`. To opt-in to the future behavior, set `pd.set_option('future.no_silent_downcasting', True)`\n",
      "  data = data.replace({'Quality':{'good': 1, 'bad':0}})\n"
     ]
    }
   ],
   "source": [
    "data = data.replace({'Quality':{'good': 1, 'bad':0}})"
   ]
  },
  {
   "cell_type": "code",
   "execution_count": 11,
   "id": "b31f7b90",
   "metadata": {
    "execution": {
     "iopub.execute_input": "2024-04-01T12:03:56.727672Z",
     "iopub.status.busy": "2024-04-01T12:03:56.727411Z",
     "iopub.status.idle": "2024-04-01T12:03:56.732058Z",
     "shell.execute_reply": "2024-04-01T12:03:56.731051Z"
    },
    "papermill": {
     "duration": 0.015838,
     "end_time": "2024-04-01T12:03:56.734457",
     "exception": false,
     "start_time": "2024-04-01T12:03:56.718619",
     "status": "completed"
    },
    "tags": []
   },
   "outputs": [],
   "source": [
    "X_data = data.loc[:,data.columns != 'Quality']"
   ]
  },
  {
   "cell_type": "code",
   "execution_count": 12,
   "id": "0c1590b8",
   "metadata": {
    "execution": {
     "iopub.execute_input": "2024-04-01T12:03:56.756719Z",
     "iopub.status.busy": "2024-04-01T12:03:56.756088Z",
     "iopub.status.idle": "2024-04-01T12:03:56.778540Z",
     "shell.execute_reply": "2024-04-01T12:03:56.777716Z"
    },
    "papermill": {
     "duration": 0.035621,
     "end_time": "2024-04-01T12:03:56.780488",
     "exception": false,
     "start_time": "2024-04-01T12:03:56.744867",
     "status": "completed"
    },
    "tags": []
   },
   "outputs": [
    {
     "data": {
      "text/html": [
       "<div>\n",
       "<style scoped>\n",
       "    .dataframe tbody tr th:only-of-type {\n",
       "        vertical-align: middle;\n",
       "    }\n",
       "\n",
       "    .dataframe tbody tr th {\n",
       "        vertical-align: top;\n",
       "    }\n",
       "\n",
       "    .dataframe thead th {\n",
       "        text-align: right;\n",
       "    }\n",
       "</style>\n",
       "<table border=\"1\" class=\"dataframe\">\n",
       "  <thead>\n",
       "    <tr style=\"text-align: right;\">\n",
       "      <th></th>\n",
       "      <th>Size</th>\n",
       "      <th>Weight</th>\n",
       "      <th>Sweetness</th>\n",
       "      <th>Crunchiness</th>\n",
       "      <th>Juiciness</th>\n",
       "      <th>Ripeness</th>\n",
       "      <th>Acidity</th>\n",
       "    </tr>\n",
       "  </thead>\n",
       "  <tbody>\n",
       "    <tr>\n",
       "      <th>0</th>\n",
       "      <td>-3.970049</td>\n",
       "      <td>-2.512336</td>\n",
       "      <td>5.346330</td>\n",
       "      <td>-1.012009</td>\n",
       "      <td>1.844900</td>\n",
       "      <td>0.329840</td>\n",
       "      <td>-0.491590483</td>\n",
       "    </tr>\n",
       "    <tr>\n",
       "      <th>1</th>\n",
       "      <td>-1.195217</td>\n",
       "      <td>-2.839257</td>\n",
       "      <td>3.664059</td>\n",
       "      <td>1.588232</td>\n",
       "      <td>0.853286</td>\n",
       "      <td>0.867530</td>\n",
       "      <td>-0.722809367</td>\n",
       "    </tr>\n",
       "    <tr>\n",
       "      <th>2</th>\n",
       "      <td>-0.292024</td>\n",
       "      <td>-1.351282</td>\n",
       "      <td>-1.738429</td>\n",
       "      <td>-0.342616</td>\n",
       "      <td>2.838636</td>\n",
       "      <td>-0.038033</td>\n",
       "      <td>2.621636473</td>\n",
       "    </tr>\n",
       "    <tr>\n",
       "      <th>3</th>\n",
       "      <td>-0.657196</td>\n",
       "      <td>-2.271627</td>\n",
       "      <td>1.324874</td>\n",
       "      <td>-0.097875</td>\n",
       "      <td>3.637970</td>\n",
       "      <td>-3.413761</td>\n",
       "      <td>0.790723217</td>\n",
       "    </tr>\n",
       "    <tr>\n",
       "      <th>4</th>\n",
       "      <td>1.364217</td>\n",
       "      <td>-1.296612</td>\n",
       "      <td>-0.384658</td>\n",
       "      <td>-0.553006</td>\n",
       "      <td>3.030874</td>\n",
       "      <td>-1.303849</td>\n",
       "      <td>0.501984036</td>\n",
       "    </tr>\n",
       "    <tr>\n",
       "      <th>...</th>\n",
       "      <td>...</td>\n",
       "      <td>...</td>\n",
       "      <td>...</td>\n",
       "      <td>...</td>\n",
       "      <td>...</td>\n",
       "      <td>...</td>\n",
       "      <td>...</td>\n",
       "    </tr>\n",
       "    <tr>\n",
       "      <th>3995</th>\n",
       "      <td>0.059386</td>\n",
       "      <td>-1.067408</td>\n",
       "      <td>-3.714549</td>\n",
       "      <td>0.473052</td>\n",
       "      <td>1.697986</td>\n",
       "      <td>2.244055</td>\n",
       "      <td>0.137784369</td>\n",
       "    </tr>\n",
       "    <tr>\n",
       "      <th>3996</th>\n",
       "      <td>-0.293118</td>\n",
       "      <td>1.949253</td>\n",
       "      <td>-0.204020</td>\n",
       "      <td>-0.640196</td>\n",
       "      <td>0.024523</td>\n",
       "      <td>-1.087900</td>\n",
       "      <td>1.854235285</td>\n",
       "    </tr>\n",
       "    <tr>\n",
       "      <th>3997</th>\n",
       "      <td>-2.634515</td>\n",
       "      <td>-2.138247</td>\n",
       "      <td>-2.440461</td>\n",
       "      <td>0.657223</td>\n",
       "      <td>2.199709</td>\n",
       "      <td>4.763859</td>\n",
       "      <td>-1.334611391</td>\n",
       "    </tr>\n",
       "    <tr>\n",
       "      <th>3998</th>\n",
       "      <td>-4.008004</td>\n",
       "      <td>-1.779337</td>\n",
       "      <td>2.366397</td>\n",
       "      <td>-0.200329</td>\n",
       "      <td>2.161435</td>\n",
       "      <td>0.214488</td>\n",
       "      <td>-2.229719806</td>\n",
       "    </tr>\n",
       "    <tr>\n",
       "      <th>3999</th>\n",
       "      <td>0.278540</td>\n",
       "      <td>-1.715505</td>\n",
       "      <td>0.121217</td>\n",
       "      <td>-1.154075</td>\n",
       "      <td>1.266677</td>\n",
       "      <td>-0.776571</td>\n",
       "      <td>1.599796456</td>\n",
       "    </tr>\n",
       "  </tbody>\n",
       "</table>\n",
       "<p>4000 rows × 7 columns</p>\n",
       "</div>"
      ],
      "text/plain": [
       "          Size    Weight  Sweetness  Crunchiness  Juiciness  Ripeness  \\\n",
       "0    -3.970049 -2.512336   5.346330    -1.012009   1.844900  0.329840   \n",
       "1    -1.195217 -2.839257   3.664059     1.588232   0.853286  0.867530   \n",
       "2    -0.292024 -1.351282  -1.738429    -0.342616   2.838636 -0.038033   \n",
       "3    -0.657196 -2.271627   1.324874    -0.097875   3.637970 -3.413761   \n",
       "4     1.364217 -1.296612  -0.384658    -0.553006   3.030874 -1.303849   \n",
       "...        ...       ...        ...          ...        ...       ...   \n",
       "3995  0.059386 -1.067408  -3.714549     0.473052   1.697986  2.244055   \n",
       "3996 -0.293118  1.949253  -0.204020    -0.640196   0.024523 -1.087900   \n",
       "3997 -2.634515 -2.138247  -2.440461     0.657223   2.199709  4.763859   \n",
       "3998 -4.008004 -1.779337   2.366397    -0.200329   2.161435  0.214488   \n",
       "3999  0.278540 -1.715505   0.121217    -1.154075   1.266677 -0.776571   \n",
       "\n",
       "           Acidity  \n",
       "0     -0.491590483  \n",
       "1     -0.722809367  \n",
       "2      2.621636473  \n",
       "3      0.790723217  \n",
       "4      0.501984036  \n",
       "...            ...  \n",
       "3995   0.137784369  \n",
       "3996   1.854235285  \n",
       "3997  -1.334611391  \n",
       "3998  -2.229719806  \n",
       "3999   1.599796456  \n",
       "\n",
       "[4000 rows x 7 columns]"
      ]
     },
     "execution_count": 12,
     "metadata": {},
     "output_type": "execute_result"
    }
   ],
   "source": [
    "X_data"
   ]
  },
  {
   "cell_type": "code",
   "execution_count": 13,
   "id": "d8e77dcb",
   "metadata": {
    "execution": {
     "iopub.execute_input": "2024-04-01T12:03:56.798583Z",
     "iopub.status.busy": "2024-04-01T12:03:56.798025Z",
     "iopub.status.idle": "2024-04-01T12:03:56.802869Z",
     "shell.execute_reply": "2024-04-01T12:03:56.802043Z"
    },
    "papermill": {
     "duration": 0.015883,
     "end_time": "2024-04-01T12:03:56.804890",
     "exception": false,
     "start_time": "2024-04-01T12:03:56.789007",
     "status": "completed"
    },
    "tags": []
   },
   "outputs": [],
   "source": [
    "Y_data = data.loc[:, 'Quality']"
   ]
  },
  {
   "cell_type": "code",
   "execution_count": 14,
   "id": "c57f2a9b",
   "metadata": {
    "execution": {
     "iopub.execute_input": "2024-04-01T12:03:56.822902Z",
     "iopub.status.busy": "2024-04-01T12:03:56.822280Z",
     "iopub.status.idle": "2024-04-01T12:03:56.828403Z",
     "shell.execute_reply": "2024-04-01T12:03:56.827633Z"
    },
    "papermill": {
     "duration": 0.017063,
     "end_time": "2024-04-01T12:03:56.830305",
     "exception": false,
     "start_time": "2024-04-01T12:03:56.813242",
     "status": "completed"
    },
    "tags": []
   },
   "outputs": [
    {
     "data": {
      "text/plain": [
       "0       1\n",
       "1       1\n",
       "2       0\n",
       "3       1\n",
       "4       1\n",
       "       ..\n",
       "3995    0\n",
       "3996    1\n",
       "3997    0\n",
       "3998    1\n",
       "3999    1\n",
       "Name: Quality, Length: 4000, dtype: int64"
      ]
     },
     "execution_count": 14,
     "metadata": {},
     "output_type": "execute_result"
    }
   ],
   "source": [
    "Y_data"
   ]
  },
  {
   "cell_type": "code",
   "execution_count": 15,
   "id": "6e1820a3",
   "metadata": {
    "execution": {
     "iopub.execute_input": "2024-04-01T12:03:56.848182Z",
     "iopub.status.busy": "2024-04-01T12:03:56.847900Z",
     "iopub.status.idle": "2024-04-01T12:03:56.853180Z",
     "shell.execute_reply": "2024-04-01T12:03:56.852348Z"
    },
    "papermill": {
     "duration": 0.016238,
     "end_time": "2024-04-01T12:03:56.855045",
     "exception": false,
     "start_time": "2024-04-01T12:03:56.838807",
     "status": "completed"
    },
    "tags": []
   },
   "outputs": [],
   "source": [
    "X_data = X_data.to_numpy()"
   ]
  },
  {
   "cell_type": "code",
   "execution_count": 16,
   "id": "1f63c93a",
   "metadata": {
    "execution": {
     "iopub.execute_input": "2024-04-01T12:03:56.872997Z",
     "iopub.status.busy": "2024-04-01T12:03:56.872735Z",
     "iopub.status.idle": "2024-04-01T12:03:56.876257Z",
     "shell.execute_reply": "2024-04-01T12:03:56.875412Z"
    },
    "papermill": {
     "duration": 0.014819,
     "end_time": "2024-04-01T12:03:56.878300",
     "exception": false,
     "start_time": "2024-04-01T12:03:56.863481",
     "status": "completed"
    },
    "tags": []
   },
   "outputs": [],
   "source": [
    "Y_data = Y_data.to_numpy()"
   ]
  },
  {
   "cell_type": "code",
   "execution_count": 17,
   "id": "ca034b5b",
   "metadata": {
    "execution": {
     "iopub.execute_input": "2024-04-01T12:03:56.900427Z",
     "iopub.status.busy": "2024-04-01T12:03:56.900066Z",
     "iopub.status.idle": "2024-04-01T12:03:56.908604Z",
     "shell.execute_reply": "2024-04-01T12:03:56.907769Z"
    },
    "papermill": {
     "duration": 0.021785,
     "end_time": "2024-04-01T12:03:56.910764",
     "exception": false,
     "start_time": "2024-04-01T12:03:56.888979",
     "status": "completed"
    },
    "tags": []
   },
   "outputs": [],
   "source": [
    "X_data, Y_data = shuffle_two_arrays(X_data, Y_data)"
   ]
  },
  {
   "cell_type": "code",
   "execution_count": 18,
   "id": "12567cc2",
   "metadata": {
    "execution": {
     "iopub.execute_input": "2024-04-01T12:03:56.929414Z",
     "iopub.status.busy": "2024-04-01T12:03:56.929009Z",
     "iopub.status.idle": "2024-04-01T12:03:56.942912Z",
     "shell.execute_reply": "2024-04-01T12:03:56.942200Z"
    },
    "papermill": {
     "duration": 0.025323,
     "end_time": "2024-04-01T12:03:56.944736",
     "exception": false,
     "start_time": "2024-04-01T12:03:56.919413",
     "status": "completed"
    },
    "tags": []
   },
   "outputs": [],
   "source": [
    "X_train = X_data[:int(train_split*len(X_data))].astype(np.double)\n",
    "Y_train = Y_data[:int(train_split*len(Y_data))].astype(np.double)\n",
    "X_val = X_data[int(train_split*len(X_data)):int((train_split+validation_split)*len(X_data))].astype(np.double)\n",
    "Y_val = Y_data[int(train_split*len(X_data)):int((train_split+validation_split)*len(Y_data))].astype(np.double)\n",
    "X_test = X_data[int((train_split+validation_split)*len(X_data)):].astype(np.double)\n",
    "Y_test = Y_data[int((train_split+validation_split)*len(X_data)):].astype(np.double)"
   ]
  },
  {
   "cell_type": "code",
   "execution_count": 19,
   "id": "668f05e2",
   "metadata": {
    "execution": {
     "iopub.execute_input": "2024-04-01T12:03:56.962811Z",
     "iopub.status.busy": "2024-04-01T12:03:56.962562Z",
     "iopub.status.idle": "2024-04-01T12:03:56.973970Z",
     "shell.execute_reply": "2024-04-01T12:03:56.973187Z"
    },
    "papermill": {
     "duration": 0.022496,
     "end_time": "2024-04-01T12:03:56.975846",
     "exception": false,
     "start_time": "2024-04-01T12:03:56.953350",
     "status": "completed"
    },
    "tags": []
   },
   "outputs": [],
   "source": [
    "Xtrain = torch.from_numpy(X_train)\n",
    "Ytrain = torch.from_numpy(Y_train)\n",
    "Xval = torch.from_numpy(X_val)\n",
    "Yval = torch.from_numpy(Y_val)\n",
    "Xtest = torch.from_numpy(X_test)\n",
    "Ytest = torch.from_numpy(Y_test)"
   ]
  },
  {
   "cell_type": "code",
   "execution_count": 20,
   "id": "9407b47b",
   "metadata": {
    "execution": {
     "iopub.execute_input": "2024-04-01T12:03:56.993721Z",
     "iopub.status.busy": "2024-04-01T12:03:56.993464Z",
     "iopub.status.idle": "2024-04-01T12:03:57.017690Z",
     "shell.execute_reply": "2024-04-01T12:03:57.016974Z"
    },
    "papermill": {
     "duration": 0.035214,
     "end_time": "2024-04-01T12:03:57.019626",
     "exception": false,
     "start_time": "2024-04-01T12:03:56.984412",
     "status": "completed"
    },
    "tags": []
   },
   "outputs": [],
   "source": [
    "dtype = torch.float32\n",
    "Xtrain = Xtrain.to(dtype)\n",
    "Ytrain = Ytrain.to(dtype)\n",
    "Xval = Xval.to(dtype)\n",
    "Yval = Yval.to(dtype)\n",
    "Xtest = Xtest.to(dtype)\n",
    "Ytest = Ytest.to(dtype)"
   ]
  },
  {
   "cell_type": "code",
   "execution_count": 21,
   "id": "514f5571",
   "metadata": {
    "execution": {
     "iopub.execute_input": "2024-04-01T12:03:57.037829Z",
     "iopub.status.busy": "2024-04-01T12:03:57.037594Z",
     "iopub.status.idle": "2024-04-01T12:03:57.243945Z",
     "shell.execute_reply": "2024-04-01T12:03:57.242693Z"
    },
    "papermill": {
     "duration": 0.217778,
     "end_time": "2024-04-01T12:03:57.246037",
     "exception": false,
     "start_time": "2024-04-01T12:03:57.028259",
     "status": "completed"
    },
    "tags": []
   },
   "outputs": [
    {
     "name": "stdout",
     "output_type": "stream",
     "text": [
      "Dense1 type: torch.float32\n",
      "Dense2 type: torch.float32\n",
      "Dense3 type: torch.float32\n",
      "Dense4 type: torch.float32\n"
     ]
    }
   ],
   "source": [
    "model = Model()"
   ]
  },
  {
   "cell_type": "code",
   "execution_count": 22,
   "id": "f6358ce9",
   "metadata": {
    "execution": {
     "iopub.execute_input": "2024-04-01T12:03:57.265114Z",
     "iopub.status.busy": "2024-04-01T12:03:57.264728Z",
     "iopub.status.idle": "2024-04-01T12:03:59.661458Z",
     "shell.execute_reply": "2024-04-01T12:03:59.660487Z"
    },
    "papermill": {
     "duration": 2.408984,
     "end_time": "2024-04-01T12:03:59.663905",
     "exception": false,
     "start_time": "2024-04-01T12:03:57.254921",
     "status": "completed"
    },
    "tags": []
   },
   "outputs": [],
   "source": [
    "params = model.parameters()\n",
    "optimizer = torch.optim.Adam(params, lr=0.001)\n",
    "loss = torch.nn.BCEWithLogitsLoss()"
   ]
  },
  {
   "cell_type": "code",
   "execution_count": 23,
   "id": "d177e437",
   "metadata": {
    "execution": {
     "iopub.execute_input": "2024-04-01T12:03:59.682988Z",
     "iopub.status.busy": "2024-04-01T12:03:59.682586Z",
     "iopub.status.idle": "2024-04-01T12:03:59.688466Z",
     "shell.execute_reply": "2024-04-01T12:03:59.687586Z"
    },
    "papermill": {
     "duration": 0.017362,
     "end_time": "2024-04-01T12:03:59.690390",
     "exception": false,
     "start_time": "2024-04-01T12:03:59.673028",
     "status": "completed"
    },
    "tags": []
   },
   "outputs": [],
   "source": [
    "def train(model, inputs, targets, loss, optimizer, device):\n",
    "    model.train()\n",
    "    \n",
    "    X = torch.autograd.Variable(inputs, requires_grad=False)\n",
    "    Y = torch.autograd.Variable(targets, requires_grad=False)\n",
    "    Y = Y.unsqueeze(1)\n",
    "    \n",
    "    optimizer.zero_grad()\n",
    "    logits = model.forward(X)\n",
    "    output = loss.forward(logits, Y)\n",
    "    output.backward()\n",
    "    optimizer.step()\n",
    "    return output.item()"
   ]
  },
  {
   "cell_type": "code",
   "execution_count": 24,
   "id": "0b1cd4ee",
   "metadata": {
    "execution": {
     "iopub.execute_input": "2024-04-01T12:03:59.708763Z",
     "iopub.status.busy": "2024-04-01T12:03:59.708481Z",
     "iopub.status.idle": "2024-04-01T12:03:59.714514Z",
     "shell.execute_reply": "2024-04-01T12:03:59.713677Z"
    },
    "papermill": {
     "duration": 0.017215,
     "end_time": "2024-04-01T12:03:59.716349",
     "exception": false,
     "start_time": "2024-04-01T12:03:59.699134",
     "status": "completed"
    },
    "tags": []
   },
   "outputs": [],
   "source": [
    "def validate(model, inputs, targets, loss, device):\n",
    "    model.eval()\n",
    "    \n",
    "    X = torch.autograd.Variable(inputs, requires_grad=False)\n",
    "    Y = torch.autograd.Variable(targets, requires_grad=False)\n",
    "    Y = Y.unsqueeze(1)\n",
    "    \n",
    "    logits = model.forward(X)\n",
    "    output = loss.forward(logits, Y)\n",
    "    \n",
    "    pred = torch.nn.Sigmoid()(logits)\n",
    "    \n",
    "    predictions = torch.eq(torch.round(pred), Y)\n",
    "    accuracy = sum(predictions) / len(predictions)\n",
    "    \n",
    "    return output.item(), accuracy"
   ]
  },
  {
   "cell_type": "code",
   "execution_count": 25,
   "id": "457d7b0b",
   "metadata": {
    "execution": {
     "iopub.execute_input": "2024-04-01T12:03:59.734692Z",
     "iopub.status.busy": "2024-04-01T12:03:59.734397Z",
     "iopub.status.idle": "2024-04-01T12:04:39.403570Z",
     "shell.execute_reply": "2024-04-01T12:04:39.402766Z"
    },
    "papermill": {
     "duration": 39.681411,
     "end_time": "2024-04-01T12:04:39.406418",
     "exception": false,
     "start_time": "2024-04-01T12:03:59.725007",
     "status": "completed"
    },
    "tags": []
   },
   "outputs": [
    {
     "name": "stdout",
     "output_type": "stream",
     "text": [
      "Epoch 0, train_loss: 0.7113293409347534, validation_loss: 0.6987513303756714, accuracy: 0.5118898749351501\n",
      "Epoch 1000, train_loss: 0.3773813247680664, validation_loss: 0.3308981657028198, accuracy: 0.8585732579231262\n",
      "Epoch 2000, train_loss: 0.2944902181625366, validation_loss: 0.2577652633190155, accuracy: 0.8948686122894287\n",
      "Epoch 3000, train_loss: 0.25525936484336853, validation_loss: 0.21116098761558533, accuracy: 0.9211514592170715\n",
      "Epoch 4000, train_loss: 0.22519038617610931, validation_loss: 0.18594425916671753, accuracy: 0.9261577129364014\n",
      "Epoch 5000, train_loss: 0.2127029448747635, validation_loss: 0.16991187632083893, accuracy: 0.9261577129364014\n",
      "Epoch 6000, train_loss: 0.1863340586423874, validation_loss: 0.15844210982322693, accuracy: 0.9349186420440674\n",
      "Epoch 7000, train_loss: 0.18202880024909973, validation_loss: 0.14827817678451538, accuracy: 0.9411764740943909\n",
      "Epoch 8000, train_loss: 0.17014098167419434, validation_loss: 0.14442503452301025, accuracy: 0.9461827278137207\n",
      "Epoch 9000, train_loss: 0.1595945656299591, validation_loss: 0.14250127971172333, accuracy: 0.9499374628067017\n",
      "Epoch 10000, train_loss: 0.16267703473567963, validation_loss: 0.1416163295507431, accuracy: 0.948685884475708\n",
      "Epoch 11000, train_loss: 0.14679507911205292, validation_loss: 0.1394716501235962, accuracy: 0.9524405598640442\n",
      "Epoch 12000, train_loss: 0.1479874551296234, validation_loss: 0.13733255863189697, accuracy: 0.9536921381950378\n",
      "Epoch 13000, train_loss: 0.1419977843761444, validation_loss: 0.13561668992042542, accuracy: 0.9549437165260315\n",
      "Epoch 14000, train_loss: 0.14870066940784454, validation_loss: 0.13590458035469055, accuracy: 0.9536921381950378\n",
      "Epoch 15000, train_loss: 0.14326006174087524, validation_loss: 0.13646163046360016, accuracy: 0.9561952352523804\n",
      "Epoch 16000, train_loss: 0.13431495428085327, validation_loss: 0.1356683224439621, accuracy: 0.957446813583374\n",
      "Epoch 17000, train_loss: 0.12894825637340546, validation_loss: 0.133572056889534, accuracy: 0.957446813583374\n",
      "Epoch 18000, train_loss: 0.1422620713710785, validation_loss: 0.1343231052160263, accuracy: 0.957446813583374\n",
      "Epoch 19000, train_loss: 0.13656987249851227, validation_loss: 0.13157223165035248, accuracy: 0.957446813583374\n"
     ]
    }
   ],
   "source": [
    "device = 'cuda' if torch.cuda.is_available() else 'cpu'\n",
    "model = model.to(device)\n",
    "Xtrain = Xtrain.to(device)\n",
    "Ytrain = Ytrain.to(device)\n",
    "Xval = Xval.to(device)\n",
    "Yval = Yval.to(device)\n",
    "Xtest = Xtest.to(device)\n",
    "Ytest = Ytest.to(device)\n",
    "epochs = 20_000\n",
    "\n",
    "losses = []\n",
    "validation_losses = []\n",
    "\n",
    "for epoch in range(epochs):\n",
    "    output = train(model, Xtrain, Ytrain, loss, optimizer, device)\n",
    "    losses.append(output)\n",
    "    if epoch % 1000 == 0:\n",
    "        validation_output, accuracy = validate(model, Xval, Yval, loss, device)\n",
    "        validation_losses.append(validation_output)\n",
    "        print(f'Epoch {epoch}, train_loss: {output}, validation_loss: {validation_output}, accuracy: {accuracy[0]}')"
   ]
  },
  {
   "cell_type": "code",
   "execution_count": null,
   "id": "7056490e",
   "metadata": {
    "papermill": {
     "duration": 0.009945,
     "end_time": "2024-04-01T12:04:39.426871",
     "exception": false,
     "start_time": "2024-04-01T12:04:39.416926",
     "status": "completed"
    },
    "tags": []
   },
   "outputs": [],
   "source": []
  },
  {
   "cell_type": "code",
   "execution_count": 26,
   "id": "1b83b388",
   "metadata": {
    "execution": {
     "iopub.execute_input": "2024-04-01T12:04:39.448750Z",
     "iopub.status.busy": "2024-04-01T12:04:39.448415Z",
     "iopub.status.idle": "2024-04-01T12:04:39.452919Z",
     "shell.execute_reply": "2024-04-01T12:04:39.451820Z"
    },
    "papermill": {
     "duration": 0.017637,
     "end_time": "2024-04-01T12:04:39.454834",
     "exception": false,
     "start_time": "2024-04-01T12:04:39.437197",
     "status": "completed"
    },
    "tags": []
   },
   "outputs": [],
   "source": [
    "import matplotlib.pyplot as plt"
   ]
  },
  {
   "cell_type": "code",
   "execution_count": 27,
   "id": "94d99a4b",
   "metadata": {
    "execution": {
     "iopub.execute_input": "2024-04-01T12:04:39.476082Z",
     "iopub.status.busy": "2024-04-01T12:04:39.475816Z",
     "iopub.status.idle": "2024-04-01T12:04:39.797584Z",
     "shell.execute_reply": "2024-04-01T12:04:39.796845Z"
    },
    "papermill": {
     "duration": 0.334988,
     "end_time": "2024-04-01T12:04:39.799782",
     "exception": false,
     "start_time": "2024-04-01T12:04:39.464794",
     "status": "completed"
    },
    "tags": []
   },
   "outputs": [
    {
     "data": {
      "text/plain": [
       "[<matplotlib.lines.Line2D at 0x79bede0a8850>]"
      ]
     },
     "execution_count": 27,
     "metadata": {},
     "output_type": "execute_result"
    },
    {
     "data": {
      "image/png": "[encoded data removed]",
      "text/plain": [
       "<Figure size 640x480 with 1 Axes>"
      ]
     },
     "metadata": {},
     "output_type": "display_data"
    }
   ],
   "source": [
    "plt.plot(losses)\n",
    "plt.plot(range(0, epochs, 1000), validation_losses)"
   ]
  },
  {
   "cell_type": "code",
   "execution_count": 28,
   "id": "aa05230f",
   "metadata": {
    "execution": {
     "iopub.execute_input": "2024-04-01T12:04:39.822632Z",
     "iopub.status.busy": "2024-04-01T12:04:39.822348Z",
     "iopub.status.idle": "2024-04-01T12:04:39.828694Z",
     "shell.execute_reply": "2024-04-01T12:04:39.827748Z"
    },
    "papermill": {
     "duration": 0.020074,
     "end_time": "2024-04-01T12:04:39.830901",
     "exception": false,
     "start_time": "2024-04-01T12:04:39.810827",
     "status": "completed"
    },
    "tags": []
   },
   "outputs": [],
   "source": [
    "def test(model, inputs, targets):\n",
    "    model.eval()\n",
    "    \n",
    "    X = torch.autograd.Variable(inputs, requires_grad=False)\n",
    "    Y = torch.autograd.Variable(targets, requires_grad=False)\n",
    "    Y = Y.unsqueeze(1)\n",
    "    \n",
    "    logits = model.forward(X)    \n",
    "    pred = torch.nn.Sigmoid()(logits)\n",
    "    predictions = torch.eq(torch.round(pred), Y)\n",
    "    accuracy = sum(predictions) / len(predictions)\n",
    "    \n",
    "    return accuracy.item()"
   ]
  },
  {
   "cell_type": "code",
   "execution_count": 29,
   "id": "d963ec27",
   "metadata": {
    "execution": {
     "iopub.execute_input": "2024-04-01T12:04:39.853406Z",
     "iopub.status.busy": "2024-04-01T12:04:39.853110Z",
     "iopub.status.idle": "2024-04-01T12:04:39.863287Z",
     "shell.execute_reply": "2024-04-01T12:04:39.862331Z"
    },
    "papermill": {
     "duration": 0.023423,
     "end_time": "2024-04-01T12:04:39.865105",
     "exception": false,
     "start_time": "2024-04-01T12:04:39.841682",
     "status": "completed"
    },
    "tags": []
   },
   "outputs": [
    {
     "name": "stdout",
     "output_type": "stream",
     "text": [
      "0.9276808500289917\n"
     ]
    }
   ],
   "source": [
    "test_accuracy = test(model, Xtest, Ytest)\n",
    "print(test_accuracy)"
   ]
  }
 ],
 "metadata": {
  "kaggle": {
   "accelerator": "gpu",
   "dataSources": [
    {
     "datasetId": 4291772,
     "sourceId": 7384155,
     "sourceType": "datasetVersion"
    }
   ],
   "dockerImageVersionId": 30674,
   "isGpuEnabled": true,
   "isInternetEnabled": true,
   "language": "python",
   "sourceType": "notebook"
  },
  "kernelspec": {
   "display_name": "Python 3",
   "language": "python",
   "name": "python3"
  },
  "language_info": {
   "codemirror_mode": {
    "name": "ipython",
    "version": 3
   },
   "file_extension": ".py",
   "mimetype": "text/x-python",
   "name": "python",
   "nbconvert_exporter": "python",
   "pygments_lexer": "ipython3",
   "version": "3.10.13"
  },
  "papermill": {
   "default_parameters": {},
   "duration": 51.992835,
   "end_time": "2024-04-01T12:04:41.297318",
   "environment_variables": {},
   "exception": null,
   "input_path": "__notebook__.ipynb",
   "output_path": "__notebook__.ipynb",
   "parameters": {},
   "start_time": "2024-04-01T12:03:49.304483",
   "version": "2.5.0"
  }
 },
 "nbformat": 4,
 "nbformat_minor": 5
}
